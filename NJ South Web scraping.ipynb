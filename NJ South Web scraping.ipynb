{
 "cells": [
  {
   "cell_type": "code",
   "execution_count": 1,
   "id": "b2217769",
   "metadata": {},
   "outputs": [],
   "source": [
    "import pandas as pd\n",
    "import numpy as np\n",
    "import csv\n",
    "import requests\n",
    "from urllib.request import urlopen\n",
    "from bs4 import BeautifulSoup\n",
    "import os\n"
   ]
  },
  {
   "cell_type": "code",
   "execution_count": 2,
   "id": "317963e0",
   "metadata": {},
   "outputs": [],
   "source": [
    "#specify the URL containing the dataset and pass it to urlopen() to get the html of the page.\n",
    "url = \"https://www.mountainproject.com/route-finder?selectedIds=116146019&type=boulder&diffMinrock=1800&diffMinboulder=20000&diffMinaid=70000&diffMinice=30000&diffMinmixed=50000&diffMaxrock=5500&diffMaxboulder=21700&diffMaxaid=75260&diffMaxice=38500&diffMaxmixed=60000&is_trad_climb=1&is_sport_climb=1&is_top_rope=1&stars=0&pitches=0&sort1=area&sort2=rating\"\n",
    "html = urlopen(url)"
   ]
  },
  {
   "cell_type": "code",
   "execution_count": 3,
   "id": "46ccd112",
   "metadata": {},
   "outputs": [
    {
     "data": {
      "text/plain": [
       "bs4.BeautifulSoup"
      ]
     },
     "execution_count": 3,
     "metadata": {},
     "output_type": "execute_result"
    }
   ],
   "source": [
    "soup = BeautifulSoup(html, 'lxml')\n",
    "type(soup)"
   ]
  },
  {
   "cell_type": "code",
   "execution_count": 4,
   "id": "3a29cb6d",
   "metadata": {},
   "outputs": [
    {
     "name": "stdout",
     "output_type": "stream",
     "text": [
      "<title>Climbing Route Finder</title>\n"
     ]
    }
   ],
   "source": [
    "# Get the title\n",
    "title = soup.title\n",
    "print(title)"
   ]
  },
  {
   "cell_type": "code",
   "execution_count": 5,
   "id": "4e4f578e",
   "metadata": {},
   "outputs": [],
   "source": [
    "text = soup.get_text()\n"
   ]
  },
  {
   "cell_type": "code",
   "execution_count": 6,
   "id": "4a49c5a3",
   "metadata": {},
   "outputs": [
    {
     "data": {
      "text/plain": [
       "[<a href=\"https://www.adventureprojects.net\" target=\"_blank\">Your FREE account works with all Adventure Projects sites <img src=\"/img/arrows/nextGray.svg\"/></a>,\n",
       " <a class=\"btn btn-facebook\" href=\"https://www.mountainproject.com/auth/login/facebook\"><img src=\"/img/social/white-facebook.svg\"/>Connect with Facebook</a>,\n",
       " <a class=\"lost-password-toggle\" href=\"#\">Password help</a>,\n",
       " <a class=\"lost-password-toggle\" href=\"#\">Cancel</a>,\n",
       " <a class=\"btn btn-primary btn-sm sign-in\" data-target=\"#login-modal\" data-toggle=\"modal\" href=\"#\">Sign In</a>,\n",
       " <a aria-controls=\"hamburger-contents\" aria-expanded=\"false\" class=\"hamburger\" data-toggle=\"collapse\" href=\"#hamburger-contents\" id=\"hamburger-trigger\"><img alt=\"Menu\" class=\"closed\" src=\"/img/hamburgerIcon.svg\" title=\"Menu\"/></a>,\n",
       " <a class=\"app-logo\" href=\"/\"><img src=\"/img/climb/logoHex2.svg\"/></a>,\n",
       " <a href=\"https://www.mountainproject.com/route-guide\">Route Guide</a>,\n",
       " <a href=\"https://www.mountainproject.com/gyms\">Gyms</a>,\n",
       " <a href=\"https://www.mountainproject.com/whats-new\">What's New</a>,\n",
       " <a href=\"https://www.mountainproject.com/partner-finder\">Partners</a>,\n",
       " <a href=\"https://www.mountainproject.com/forum\">Forum</a>,\n",
       " <a href=\"https://www.mountainproject.com/mobile-app\">\n",
       " <img class=\"apple icon\" src=\"/img/apple.png\"/><img class=\"android icon\" src=\"/img/android.png\"/>\n",
       " </a>,\n",
       " <a href=\"https://www.mountainproject.com/route-guide\">Route Guide  <img class=\"menu-arrow\" src=\"/img/arrowRightBlack.svg\"/></a>,\n",
       " <a href=\"https://www.mountainproject.com/gyms\">Climbing Gyms  <img class=\"menu-arrow\" src=\"/img/arrowRightBlack.svg\"/></a>,\n",
       " <a href=\"https://www.mountainproject.com/whats-new\">What's New <img class=\"menu-arrow\" src=\"/img/arrowRightBlack.svg\"/></a>,\n",
       " <a href=\"https://www.mountainproject.com/partner-finder\">Partners <img class=\"menu-arrow\" src=\"/img/arrowRightBlack.svg\"/></a>,\n",
       " <a href=\"https://www.mountainproject.com/forum\">Forum <img class=\"menu-arrow\" src=\"/img/arrowRightBlack.svg\"/></a>,\n",
       " <a href=\"https://www.mountainproject.com/mobile-app\">\n",
       "         Get the app\n",
       "         <img class=\"apple\" src=\"/img/appleBlack.svg\"/>\n",
       " <img class=\"android\" src=\"/img/androidBlack.svg\"/>\n",
       " <img class=\"menu-arrow\" src=\"/img/arrowRightBlack.svg\"/>\n",
       " </a>,\n",
       " <a href=\"https://www.accessfund.org/\" target=\"_blank\">Access Fund</a>,\n",
       " <a href=\"https://accessfund.org\" target=\"_blank\"><img class=\"logo\" src=\"/img/partners/af-black.png\"/></a>,\n",
       " <a class=\"btn btn-secondary mt-1\" href=\"https://www.mountainproject.com/about\">More Info</a>,\n",
       " <a href=\"#settings\">Change Settings</a>,\n",
       " <a href=\"https://www.mountainproject.com/route-finder-export?selectedIds=116146019&amp;type=boulder&amp;diffMinrock=1800&amp;diffMinboulder=20000&amp;diffMinaid=70000&amp;diffMinice=30000&amp;diffMinmixed=50000&amp;diffMaxrock=5500&amp;diffMaxboulder=21700&amp;diffMaxaid=75260&amp;diffMaxice=38500&amp;diffMaxmixed=60000&amp;is_trad_climb=1&amp;is_sport_climb=1&amp;is_top_rope=1&amp;stars=0&amp;pitches=0&amp;sort1=area&amp;sort2=rating\" rel=\"nofollow\">Export CSV</a>,\n",
       " <a class=\"no-click\">\n",
       "         Page 1 of 1\n",
       "     </a>,\n",
       " <a class=\"text-black route-row\" href=\"https://www.mountainproject.com/route/117864357/tanakas-master-plan\">\n",
       " <div class=\"float-xs-right text-xs-right\">\n",
       " <span class=\"rateYDS\">V0+</span> <span class=\"rateFont\">4+</span>\n",
       " <div>\n",
       " <!--START-STARS-Climb\\Route-117864357-->\n",
       " <span class=\"scoreStars\">\n",
       " <img alt=\"\" src=\"/img/stars/starBlue.svg\"/>\n",
       " <img alt=\"\" src=\"/img/stars/starBlue.svg\"/>\n",
       " <img alt=\"\" src=\"/img/stars/starBlue.svg\"/>\n",
       " </span>\n",
       " <!--END-STARS-Climb\\Route-117864357-->\n",
       " <span class=\"text-muted small\"> 1</span>\n",
       " </div>\n",
       " </div>\n",
       " <div class=\"text-truncate\">\n",
       " <span class=\"new-indicator\" data-older=\"1570758646\">●</span>\n",
       " <strong>Tanaka's Master Plan</strong>\n",
       " <!--TODO-MARKER-117864357-->\n",
       " </div>\n",
       " <div class=\"small text-warm\">\n",
       " <div>\n",
       " <i></i>\n",
       " </div>\n",
       "         \n",
       "         \n",
       "                     Boulder \n",
       "             </div>\n",
       " </a>,\n",
       " <a href=\"https://www.mountainproject.com/area/117791825/atlantic-city\">Atlantic City</a>,\n",
       " <a href=\"https://www.mountainproject.com/area/117864311/tanakas-bly-tower\">Tanaka's Bly Tower</a>,\n",
       " <a class=\"text-black route-row\" href=\"https://www.mountainproject.com/route/117864372/army-of-the-dead\">\n",
       " <div class=\"float-xs-right text-xs-right\">\n",
       " <span class=\"rateYDS\">V2</span> <span class=\"rateFont\">5+</span>\n",
       " <div>\n",
       " <!--START-STARS-Climb\\Route-117864372-->\n",
       " <span class=\"scoreStars\">\n",
       " <img alt=\"\" src=\"/img/stars/starBlue.svg\"/>\n",
       " <img alt=\"\" src=\"/img/stars/starBlue.svg\"/>\n",
       " </span>\n",
       " <!--END-STARS-Climb\\Route-117864372-->\n",
       " <span class=\"text-muted small\"> 1</span>\n",
       " </div>\n",
       " </div>\n",
       " <div class=\"text-truncate\">\n",
       " <span class=\"new-indicator\" data-older=\"1570759025\">●</span>\n",
       " <strong>Army of the Dead</strong>\n",
       " <!--TODO-MARKER-117864372-->\n",
       " </div>\n",
       " <div class=\"small text-warm\">\n",
       " <div>\n",
       " <i></i>\n",
       " </div>\n",
       "         \n",
       "         \n",
       "                     Boulder \n",
       "             </div>\n",
       " </a>,\n",
       " <a href=\"https://www.mountainproject.com/area/117791825/atlantic-city\">Atlantic City</a>,\n",
       " <a href=\"https://www.mountainproject.com/area/117864311/tanakas-bly-tower\">Tanaka's Bly Tower</a>,\n",
       " <a href=\"https://www.mountainproject.com/route/117864357/tanakas-master-plan\"><strong>Tanaka's Master Plan</strong></a>,\n",
       " <a href=\"https://www.mountainproject.com/area/117791825/atlantic-city\">Atlantic City</a>,\n",
       " <a href=\"https://www.mountainproject.com/area/117864311/tanakas-bly-tower\">Tanaka's Bly Tower</a>,\n",
       " <a href=\"https://www.mountainproject.com/route/117864372/army-of-the-dead\"><strong>Army of the Dead</strong></a>,\n",
       " <a href=\"https://www.mountainproject.com/area/117791825/atlantic-city\">Atlantic City</a>,\n",
       " <a href=\"https://www.mountainproject.com/area/117864311/tanakas-bly-tower\">Tanaka's Bly Tower</a>,\n",
       " <a class=\"no-click\">\n",
       "         Page 1 of 1\n",
       "     </a>,\n",
       " <a name=\"settings\"></a>,\n",
       " <a name=\"routeFinder\"></a>,\n",
       " <a href=\"javascript: changeAreaPickerLocation('single', 0);\">Change</a>,\n",
       " <a class=\"dotted\" href=\"https://www.mountainproject.com/about\">About</a>,\n",
       " <a class=\"dotted\" href=\"https://www.mountainproject.com/stickers\">Free\n",
       "                             Stickers</a>,\n",
       " <a class=\"dotted\" href=\"https://www.mountainproject.com/widget?action=configure\">Widgets</a>,\n",
       " <a class=\"dotted\" href=\"https://www.mountainproject.com/help\">Help</a>,\n",
       " <a data-gtm-id=\"trail-page-app-store\" href=\"https://apps.apple.com/us/app/mountain-project/id452308783\" target=\"_blank\">\n",
       " <img alt=\"iOS App Store\" class=\"app-store lazy\" data-original=\"https://www.mountainproject.com/img/mobileApp/appStoreIos.gif\" style=\"margin-right:20px;\"/></a>,\n",
       " <a data-gtm-id=\"trail-page-app-store\" href=\"https://play.google.com/store/apps/details?id=com.mountainproject.android\" target=\"_blank\">\n",
       " <img alt=\"Android App Store\" class=\"app-store lazy\" data-original=\"https://www.mountainproject.com/img/mobileApp/appStoreAndroid.gif\"/></a>,\n",
       " <a href=\"https://www.adventureprojects.net\" target=\"_blank\">© 2022\n",
       "     Adventure Projects, Inc.</a>,\n",
       " <a class=\"dotted\" href=\"https://www.adventureprojects.net/ap-terms\" target=\"_blank\">Terms</a>,\n",
       " <a class=\"dotted\" href=\"https://www.adventureprojects.net/ap-privacy\" target=\"_blank\">Privacy</a>,\n",
       " <a href=\"https://www.mountainproject.com\"><img alt=\"Mountain Project\" class=\"project-logo desktop lazy\" data-original=\"/img/climb/logoHex2.svg\"/><img alt=\"Mountain Project\" class=\"project-logo mobile lazy\" data-original=\"/img/climb/appIcon.svg\"/></a>,\n",
       " <a href=\"https://www.mtbproject.com\"><img alt=\"MTB Project\" class=\"project-logo desktop lazy\" data-original=\"https://www.mtbproject.com/img/mtb/logoHex2.svg\"/><img alt=\"MTB Project\" class=\"project-logo mobile lazy\" data-original=\"https://mtbproject.com/img/mtb/appIcon.svg\"/></a>,\n",
       " <a href=\"https://www.hikingproject.com\"><img alt=\"Hiking Project\" class=\"project-logo desktop lazy\" data-original=\"https://www.hikingproject.com/img/hike/logoHex2.svg\"/><img alt=\"Hiking Project\" class=\"project-logo mobile lazy\" data-original=\"https://www.hikingproject.com/img/hike/appIcon.svg\"/></a>,\n",
       " <a href=\"https://www.trailrunproject.com\"><img alt=\"Trail Run Project\" class=\"project-logo desktop lazy\" data-original=\"https://www.trailrunproject.com/img/trailrun/logoHex2.svg\"/><img alt=\"Trail Run Project\" class=\"project-logo mobile lazy\" data-original=\"https://www.trailrunproject.com/img/trailrun/appIcon.svg\"/></a>,\n",
       " <a href=\"https://www.powderproject.com\"><img alt=\"Powder Project\" class=\"project-logo desktop lazy\" data-original=\"https://www.powderproject.com/img/ski/logoHex2.svg\"/><img alt=\"Powder Project\" class=\"project-logo mobile lazy\" data-original=\"https://www.powderproject.com/img/ski/appIcon.svg\"/></a>,\n",
       " <a href=\"https://www.hikingproject.com/nationalparks\"><img alt=\"National Parks\" class=\"project-logo desktop lazy\" data-original=\"/img/np-app/logoHex2.svg\"/><img alt=\"National Parks\" class=\"project-logo mobile lazy\" data-original=\"/img/np-app/appIcon.svg\"/></a>,\n",
       " <a class=\"btn btn-primary\" id=\"data-confirm-ok\">OK</a>]"
      ]
     },
     "execution_count": 6,
     "metadata": {},
     "output_type": "execute_result"
    }
   ],
   "source": [
    "soup.find_all('a')\n"
   ]
  },
  {
   "cell_type": "code",
   "execution_count": 7,
   "id": "5e9c7efb",
   "metadata": {
    "scrolled": true
   },
   "outputs": [
    {
     "data": {
      "text/plain": [
       "['https://www.adventureprojects.net',\n",
       " 'https://www.mountainproject.com/auth/login/facebook',\n",
       " '#',\n",
       " '#',\n",
       " '#',\n",
       " '#hamburger-contents',\n",
       " '/',\n",
       " 'https://www.mountainproject.com/route-guide',\n",
       " 'https://www.mountainproject.com/gyms',\n",
       " 'https://www.mountainproject.com/whats-new',\n",
       " 'https://www.mountainproject.com/partner-finder',\n",
       " 'https://www.mountainproject.com/forum',\n",
       " 'https://www.mountainproject.com/mobile-app',\n",
       " 'https://www.mountainproject.com/route-guide',\n",
       " 'https://www.mountainproject.com/gyms',\n",
       " 'https://www.mountainproject.com/whats-new',\n",
       " 'https://www.mountainproject.com/partner-finder',\n",
       " 'https://www.mountainproject.com/forum',\n",
       " 'https://www.mountainproject.com/mobile-app',\n",
       " 'https://www.accessfund.org/',\n",
       " 'https://accessfund.org',\n",
       " 'https://www.mountainproject.com/about',\n",
       " '#settings',\n",
       " 'https://www.mountainproject.com/route-finder-export?selectedIds=116146019&type=boulder&diffMinrock=1800&diffMinboulder=20000&diffMinaid=70000&diffMinice=30000&diffMinmixed=50000&diffMaxrock=5500&diffMaxboulder=21700&diffMaxaid=75260&diffMaxice=38500&diffMaxmixed=60000&is_trad_climb=1&is_sport_climb=1&is_top_rope=1&stars=0&pitches=0&sort1=area&sort2=rating',\n",
       " None,\n",
       " 'https://www.mountainproject.com/route/117864357/tanakas-master-plan',\n",
       " 'https://www.mountainproject.com/area/117791825/atlantic-city',\n",
       " 'https://www.mountainproject.com/area/117864311/tanakas-bly-tower',\n",
       " 'https://www.mountainproject.com/route/117864372/army-of-the-dead',\n",
       " 'https://www.mountainproject.com/area/117791825/atlantic-city',\n",
       " 'https://www.mountainproject.com/area/117864311/tanakas-bly-tower',\n",
       " 'https://www.mountainproject.com/route/117864357/tanakas-master-plan',\n",
       " 'https://www.mountainproject.com/area/117791825/atlantic-city',\n",
       " 'https://www.mountainproject.com/area/117864311/tanakas-bly-tower',\n",
       " 'https://www.mountainproject.com/route/117864372/army-of-the-dead',\n",
       " 'https://www.mountainproject.com/area/117791825/atlantic-city',\n",
       " 'https://www.mountainproject.com/area/117864311/tanakas-bly-tower',\n",
       " None,\n",
       " None,\n",
       " None,\n",
       " \"javascript: changeAreaPickerLocation('single', 0);\",\n",
       " 'https://www.mountainproject.com/about',\n",
       " 'https://www.mountainproject.com/stickers',\n",
       " 'https://www.mountainproject.com/widget?action=configure',\n",
       " 'https://www.mountainproject.com/help',\n",
       " 'https://apps.apple.com/us/app/mountain-project/id452308783',\n",
       " 'https://play.google.com/store/apps/details?id=com.mountainproject.android',\n",
       " 'https://www.adventureprojects.net',\n",
       " 'https://www.adventureprojects.net/ap-terms',\n",
       " 'https://www.adventureprojects.net/ap-privacy',\n",
       " 'https://www.mountainproject.com',\n",
       " 'https://www.mtbproject.com',\n",
       " 'https://www.hikingproject.com',\n",
       " 'https://www.trailrunproject.com',\n",
       " 'https://www.powderproject.com',\n",
       " 'https://www.hikingproject.com/nationalparks',\n",
       " None]"
      ]
     },
     "execution_count": 7,
     "metadata": {},
     "output_type": "execute_result"
    }
   ],
   "source": [
    "links = []\n",
    "all_links = soup.find_all(\"a\")\n",
    "for link in all_links:\n",
    "    links.append(link.get(\"href\"))\n",
    "    \n",
    "links"
   ]
  },
  {
   "cell_type": "markdown",
   "id": "e37b667d",
   "metadata": {},
   "source": [
    "### Getting rid of 'None' values in list"
   ]
  },
  {
   "cell_type": "code",
   "execution_count": 8,
   "id": "0bb422c3",
   "metadata": {},
   "outputs": [
    {
     "data": {
      "text/plain": [
       "24"
      ]
     },
     "execution_count": 8,
     "metadata": {},
     "output_type": "execute_result"
    }
   ],
   "source": [
    "links.index(None) #Finding none"
   ]
  },
  {
   "cell_type": "code",
   "execution_count": 9,
   "id": "a583705a",
   "metadata": {},
   "outputs": [],
   "source": [
    "links.pop(24) #getting rid of none at [24]"
   ]
  },
  {
   "cell_type": "code",
   "execution_count": 10,
   "id": "1d11c0d4",
   "metadata": {},
   "outputs": [
    {
     "data": {
      "text/plain": [
       "36"
      ]
     },
     "execution_count": 10,
     "metadata": {},
     "output_type": "execute_result"
    }
   ],
   "source": [
    "links.index(None) #looking for more none"
   ]
  },
  {
   "cell_type": "code",
   "execution_count": 11,
   "id": "9bd23ca7",
   "metadata": {},
   "outputs": [],
   "source": [
    "links.pop(36) #getting rid of none at [36]"
   ]
  },
  {
   "cell_type": "code",
   "execution_count": 12,
   "id": "e5acd13f",
   "metadata": {},
   "outputs": [
    {
     "data": {
      "text/plain": [
       "36"
      ]
     },
     "execution_count": 12,
     "metadata": {},
     "output_type": "execute_result"
    }
   ],
   "source": [
    "links.index(None) #Did not get rid of non at [36]"
   ]
  },
  {
   "cell_type": "code",
   "execution_count": 13,
   "id": "08a67250",
   "metadata": {
    "scrolled": true
   },
   "outputs": [
    {
     "data": {
      "text/plain": [
       "['https://www.adventureprojects.net',\n",
       " 'https://www.mountainproject.com/auth/login/facebook',\n",
       " '#',\n",
       " '#',\n",
       " '#',\n",
       " '#hamburger-contents',\n",
       " '/',\n",
       " 'https://www.mountainproject.com/route-guide',\n",
       " 'https://www.mountainproject.com/gyms',\n",
       " 'https://www.mountainproject.com/whats-new',\n",
       " 'https://www.mountainproject.com/partner-finder',\n",
       " 'https://www.mountainproject.com/forum',\n",
       " 'https://www.mountainproject.com/mobile-app',\n",
       " 'https://www.mountainproject.com/route-guide',\n",
       " 'https://www.mountainproject.com/gyms',\n",
       " 'https://www.mountainproject.com/whats-new',\n",
       " 'https://www.mountainproject.com/partner-finder',\n",
       " 'https://www.mountainproject.com/forum',\n",
       " 'https://www.mountainproject.com/mobile-app',\n",
       " 'https://www.accessfund.org/',\n",
       " 'https://accessfund.org',\n",
       " 'https://www.mountainproject.com/about',\n",
       " '#settings',\n",
       " 'https://www.mountainproject.com/route-finder-export?selectedIds=116146019&type=boulder&diffMinrock=1800&diffMinboulder=20000&diffMinaid=70000&diffMinice=30000&diffMinmixed=50000&diffMaxrock=5500&diffMaxboulder=21700&diffMaxaid=75260&diffMaxice=38500&diffMaxmixed=60000&is_trad_climb=1&is_sport_climb=1&is_top_rope=1&stars=0&pitches=0&sort1=area&sort2=rating',\n",
       " 'https://www.mountainproject.com/route/117864357/tanakas-master-plan',\n",
       " 'https://www.mountainproject.com/area/117791825/atlantic-city',\n",
       " 'https://www.mountainproject.com/area/117864311/tanakas-bly-tower',\n",
       " 'https://www.mountainproject.com/route/117864372/army-of-the-dead',\n",
       " 'https://www.mountainproject.com/area/117791825/atlantic-city',\n",
       " 'https://www.mountainproject.com/area/117864311/tanakas-bly-tower',\n",
       " 'https://www.mountainproject.com/route/117864357/tanakas-master-plan',\n",
       " 'https://www.mountainproject.com/area/117791825/atlantic-city',\n",
       " 'https://www.mountainproject.com/area/117864311/tanakas-bly-tower',\n",
       " 'https://www.mountainproject.com/route/117864372/army-of-the-dead',\n",
       " 'https://www.mountainproject.com/area/117791825/atlantic-city',\n",
       " 'https://www.mountainproject.com/area/117864311/tanakas-bly-tower',\n",
       " None,\n",
       " None,\n",
       " \"javascript: changeAreaPickerLocation('single', 0);\",\n",
       " 'https://www.mountainproject.com/about',\n",
       " 'https://www.mountainproject.com/stickers',\n",
       " 'https://www.mountainproject.com/widget?action=configure',\n",
       " 'https://www.mountainproject.com/help',\n",
       " 'https://apps.apple.com/us/app/mountain-project/id452308783',\n",
       " 'https://play.google.com/store/apps/details?id=com.mountainproject.android',\n",
       " 'https://www.adventureprojects.net',\n",
       " 'https://www.adventureprojects.net/ap-terms',\n",
       " 'https://www.adventureprojects.net/ap-privacy',\n",
       " 'https://www.mountainproject.com',\n",
       " 'https://www.mtbproject.com',\n",
       " 'https://www.hikingproject.com',\n",
       " 'https://www.trailrunproject.com',\n",
       " 'https://www.powderproject.com',\n",
       " 'https://www.hikingproject.com/nationalparks',\n",
       " None]"
      ]
     },
     "execution_count": 13,
     "metadata": {},
     "output_type": "execute_result"
    }
   ],
   "source": [
    "links"
   ]
  },
  {
   "cell_type": "code",
   "execution_count": 14,
   "id": "cb4702a1",
   "metadata": {},
   "outputs": [],
   "source": [
    "links = links[:36] #slicing everything until the none value that doesn't want to move"
   ]
  },
  {
   "cell_type": "code",
   "execution_count": 15,
   "id": "10778182",
   "metadata": {
    "scrolled": true
   },
   "outputs": [
    {
     "data": {
      "text/plain": [
       "['https://www.adventureprojects.net',\n",
       " 'https://www.mountainproject.com/auth/login/facebook',\n",
       " '#',\n",
       " '#',\n",
       " '#',\n",
       " '#hamburger-contents',\n",
       " '/',\n",
       " 'https://www.mountainproject.com/route-guide',\n",
       " 'https://www.mountainproject.com/gyms',\n",
       " 'https://www.mountainproject.com/whats-new',\n",
       " 'https://www.mountainproject.com/partner-finder',\n",
       " 'https://www.mountainproject.com/forum',\n",
       " 'https://www.mountainproject.com/mobile-app',\n",
       " 'https://www.mountainproject.com/route-guide',\n",
       " 'https://www.mountainproject.com/gyms',\n",
       " 'https://www.mountainproject.com/whats-new',\n",
       " 'https://www.mountainproject.com/partner-finder',\n",
       " 'https://www.mountainproject.com/forum',\n",
       " 'https://www.mountainproject.com/mobile-app',\n",
       " 'https://www.accessfund.org/',\n",
       " 'https://accessfund.org',\n",
       " 'https://www.mountainproject.com/about',\n",
       " '#settings',\n",
       " 'https://www.mountainproject.com/route-finder-export?selectedIds=116146019&type=boulder&diffMinrock=1800&diffMinboulder=20000&diffMinaid=70000&diffMinice=30000&diffMinmixed=50000&diffMaxrock=5500&diffMaxboulder=21700&diffMaxaid=75260&diffMaxice=38500&diffMaxmixed=60000&is_trad_climb=1&is_sport_climb=1&is_top_rope=1&stars=0&pitches=0&sort1=area&sort2=rating',\n",
       " 'https://www.mountainproject.com/route/117864357/tanakas-master-plan',\n",
       " 'https://www.mountainproject.com/area/117791825/atlantic-city',\n",
       " 'https://www.mountainproject.com/area/117864311/tanakas-bly-tower',\n",
       " 'https://www.mountainproject.com/route/117864372/army-of-the-dead',\n",
       " 'https://www.mountainproject.com/area/117791825/atlantic-city',\n",
       " 'https://www.mountainproject.com/area/117864311/tanakas-bly-tower',\n",
       " 'https://www.mountainproject.com/route/117864357/tanakas-master-plan',\n",
       " 'https://www.mountainproject.com/area/117791825/atlantic-city',\n",
       " 'https://www.mountainproject.com/area/117864311/tanakas-bly-tower',\n",
       " 'https://www.mountainproject.com/route/117864372/army-of-the-dead',\n",
       " 'https://www.mountainproject.com/area/117791825/atlantic-city',\n",
       " 'https://www.mountainproject.com/area/117864311/tanakas-bly-tower']"
      ]
     },
     "execution_count": 15,
     "metadata": {},
     "output_type": "execute_result"
    }
   ],
   "source": [
    "links #checking that slice got rid of everything after the none type that won't pop"
   ]
  },
  {
   "cell_type": "code",
   "execution_count": 16,
   "id": "69a5b288",
   "metadata": {},
   "outputs": [
    {
     "data": {
      "text/plain": [
       "['https://www.mountainproject.com/route/117864357/tanakas-master-plan',\n",
       " 'https://www.mountainproject.com/route/117864372/army-of-the-dead',\n",
       " 'https://www.mountainproject.com/route/117864357/tanakas-master-plan',\n",
       " 'https://www.mountainproject.com/route/117864372/army-of-the-dead']"
      ]
     },
     "execution_count": 16,
     "metadata": {},
     "output_type": "execute_result"
    }
   ],
   "source": [
    "route_links=[]\n",
    "for link in links:\n",
    "    if 'https://www.mountainproject.com/route/' in link: #taking route only links to a new list\n",
    "        route_links.append(link)\n",
    "route_links\n"
   ]
  },
  {
   "cell_type": "code",
   "execution_count": 17,
   "id": "8990351e",
   "metadata": {},
   "outputs": [
    {
     "data": {
      "text/plain": [
       "['https://www.mountainproject.com/route/117864357/tanakas-master-plan',\n",
       " 'https://www.mountainproject.com/route/117864372/army-of-the-dead']"
      ]
     },
     "execution_count": 17,
     "metadata": {},
     "output_type": "execute_result"
    }
   ],
   "source": [
    "route_links = route_links[:2]\n",
    "route_links"
   ]
  },
  {
   "cell_type": "code",
   "execution_count": 18,
   "id": "9c581be5",
   "metadata": {},
   "outputs": [
    {
     "name": "stdout",
     "output_type": "stream",
     "text": [
      "['tanakas-master-plan', 'army-of-the-dead']\n"
     ]
    }
   ],
   "source": [
    "end_of_url = [] #taking the ends of the link\n",
    "for url in route_links:\n",
    "    end_of_url.append(url.rsplit('/', 1)[-1])\n",
    "\n",
    "print(end_of_url)\n"
   ]
  },
  {
   "cell_type": "code",
   "execution_count": 19,
   "id": "a88cebd6",
   "metadata": {
    "scrolled": true
   },
   "outputs": [
    {
     "data": {
      "text/html": [
       "<div>\n",
       "<style scoped>\n",
       "    .dataframe tbody tr th:only-of-type {\n",
       "        vertical-align: middle;\n",
       "    }\n",
       "\n",
       "    .dataframe tbody tr th {\n",
       "        vertical-align: top;\n",
       "    }\n",
       "\n",
       "    .dataframe thead th {\n",
       "        text-align: right;\n",
       "    }\n",
       "</style>\n",
       "<table border=\"1\" class=\"dataframe\">\n",
       "  <thead>\n",
       "    <tr style=\"text-align: right;\">\n",
       "      <th></th>\n",
       "      <th>Route name</th>\n",
       "    </tr>\n",
       "  </thead>\n",
       "  <tbody>\n",
       "    <tr>\n",
       "      <th>0</th>\n",
       "      <td>Tanakas Master Plan</td>\n",
       "    </tr>\n",
       "    <tr>\n",
       "      <th>1</th>\n",
       "      <td>Army Of The Dead</td>\n",
       "    </tr>\n",
       "  </tbody>\n",
       "</table>\n",
       "</div>"
      ],
      "text/plain": [
       "            Route name\n",
       "0  Tanakas Master Plan\n",
       "1     Army Of The Dead"
      ]
     },
     "execution_count": 19,
     "metadata": {},
     "output_type": "execute_result"
    }
   ],
   "source": [
    "end_of_url_df = pd.DataFrame(end_of_url, columns=['Route name'])\n",
    "end_of_url_df['Route name'] = end_of_url_df['Route name'].str.replace(\"-\", ' ').str.title()\n",
    "end_of_url_df"
   ]
  },
  {
   "cell_type": "code",
   "execution_count": 20,
   "id": "92b906e4",
   "metadata": {},
   "outputs": [],
   "source": [
    "descriptions = [] \n",
    "for url in route_links:\n",
    "    response = requests.get(url)\n",
    "    soup = BeautifulSoup(response.content, \"html.parser\")\n",
    "    h1 = soup.find('div', class_= \"fr-view\") #descriptions are in this class\n",
    "\n",
    "    descriptions.append(h1.get_text(strip=True)) #getting descriptions into text and stripping them"
   ]
  },
  {
   "cell_type": "code",
   "execution_count": 21,
   "id": "3f28bbb2",
   "metadata": {},
   "outputs": [
    {
     "data": {
      "text/plain": [
       "['Sit start on the east face of the pillar with feet on the lowest horizontal rail. Crux is to get off the ground and onto the face. Climb the face to the mini roof and top out. Stand on top to finish.All face holds as well as corners are on.',\n",
       " 'Sit start at the NE arete, with rubber crimp for your right hand and side pull off the East face for left hand. Once off the ground, climb up the arete on thin feet, then top out over the mini-roof. Stand on top to finish.']"
      ]
     },
     "execution_count": 21,
     "metadata": {},
     "output_type": "execute_result"
    }
   ],
   "source": [
    "descriptions"
   ]
  },
  {
   "cell_type": "code",
   "execution_count": 22,
   "id": "2be66171",
   "metadata": {},
   "outputs": [],
   "source": [
    "end_of_url_df['Description'] = descriptions #adding description to dataframe"
   ]
  },
  {
   "cell_type": "code",
   "execution_count": 23,
   "id": "3b56d3b1",
   "metadata": {},
   "outputs": [
    {
     "data": {
      "text/html": [
       "<div>\n",
       "<style scoped>\n",
       "    .dataframe tbody tr th:only-of-type {\n",
       "        vertical-align: middle;\n",
       "    }\n",
       "\n",
       "    .dataframe tbody tr th {\n",
       "        vertical-align: top;\n",
       "    }\n",
       "\n",
       "    .dataframe thead th {\n",
       "        text-align: right;\n",
       "    }\n",
       "</style>\n",
       "<table border=\"1\" class=\"dataframe\">\n",
       "  <thead>\n",
       "    <tr style=\"text-align: right;\">\n",
       "      <th></th>\n",
       "      <th>index</th>\n",
       "      <th>Route name</th>\n",
       "      <th>Description</th>\n",
       "    </tr>\n",
       "  </thead>\n",
       "  <tbody>\n",
       "    <tr>\n",
       "      <th>0</th>\n",
       "      <td>0</td>\n",
       "      <td>Tanakas Master Plan</td>\n",
       "      <td>Sit start on the east face of the pillar with ...</td>\n",
       "    </tr>\n",
       "    <tr>\n",
       "      <th>1</th>\n",
       "      <td>1</td>\n",
       "      <td>Army Of The Dead</td>\n",
       "      <td>Sit start at the NE arete, with rubber crimp f...</td>\n",
       "    </tr>\n",
       "  </tbody>\n",
       "</table>\n",
       "</div>"
      ],
      "text/plain": [
       "   index           Route name  \\\n",
       "0      0  Tanakas Master Plan   \n",
       "1      1     Army Of The Dead   \n",
       "\n",
       "                                         Description  \n",
       "0  Sit start on the east face of the pillar with ...  \n",
       "1  Sit start at the NE arete, with rubber crimp f...  "
      ]
     },
     "execution_count": 23,
     "metadata": {},
     "output_type": "execute_result"
    }
   ],
   "source": [
    "end_of_url_df = end_of_url_df.reset_index()\n",
    "end_of_url_df"
   ]
  },
  {
   "cell_type": "code",
   "execution_count": 24,
   "id": "b26298b0",
   "metadata": {},
   "outputs": [],
   "source": [
    "notebook_path = os.path.abspath(\"NJ_SOUTH.csv\")"
   ]
  },
  {
   "cell_type": "code",
   "execution_count": 25,
   "id": "9f25d0e7",
   "metadata": {},
   "outputs": [
    {
     "data": {
      "text/plain": [
       "'/Users/Thina/Desktop/Passionproject/NJ_SOUTH.csv'"
      ]
     },
     "execution_count": 25,
     "metadata": {},
     "output_type": "execute_result"
    }
   ],
   "source": [
    "notebook_path"
   ]
  },
  {
   "cell_type": "code",
   "execution_count": 26,
   "id": "f54cf221",
   "metadata": {},
   "outputs": [],
   "source": [
    "NJ_South_boulder = pd.read_csv('/Users/Thina/Desktop/Passionproject/MP_CSV/NJ_SOUTH.csv')"
   ]
  },
  {
   "cell_type": "code",
   "execution_count": 27,
   "id": "97fa9dcf",
   "metadata": {},
   "outputs": [
    {
     "data": {
      "text/html": [
       "<div>\n",
       "<style scoped>\n",
       "    .dataframe tbody tr th:only-of-type {\n",
       "        vertical-align: middle;\n",
       "    }\n",
       "\n",
       "    .dataframe tbody tr th {\n",
       "        vertical-align: top;\n",
       "    }\n",
       "\n",
       "    .dataframe thead th {\n",
       "        text-align: right;\n",
       "    }\n",
       "</style>\n",
       "<table border=\"1\" class=\"dataframe\">\n",
       "  <thead>\n",
       "    <tr style=\"text-align: right;\">\n",
       "      <th></th>\n",
       "      <th>index</th>\n",
       "      <th>Route</th>\n",
       "      <th>Location</th>\n",
       "      <th>URL</th>\n",
       "      <th>Avg Stars</th>\n",
       "      <th>Your Stars</th>\n",
       "      <th>Route Type</th>\n",
       "      <th>Rating</th>\n",
       "      <th>Pitches</th>\n",
       "      <th>Length</th>\n",
       "      <th>Area Latitude</th>\n",
       "      <th>Area Longitude</th>\n",
       "    </tr>\n",
       "  </thead>\n",
       "  <tbody>\n",
       "    <tr>\n",
       "      <th>0</th>\n",
       "      <td>0</td>\n",
       "      <td>Tanaka's Master Plan</td>\n",
       "      <td>Tanaka's Bly Tower &gt; Atlantic City &gt; e. South ...</td>\n",
       "      <td>https://www.mountainproject.com/route/11786435...</td>\n",
       "      <td>3.0</td>\n",
       "      <td>-1</td>\n",
       "      <td>Boulder</td>\n",
       "      <td>V0+</td>\n",
       "      <td>1</td>\n",
       "      <td>10</td>\n",
       "      <td>39.37632</td>\n",
       "      <td>-74.41817</td>\n",
       "    </tr>\n",
       "    <tr>\n",
       "      <th>1</th>\n",
       "      <td>1</td>\n",
       "      <td>Army of the Dead</td>\n",
       "      <td>Tanaka's Bly Tower &gt; Atlantic City &gt; e. South ...</td>\n",
       "      <td>https://www.mountainproject.com/route/11786437...</td>\n",
       "      <td>2.0</td>\n",
       "      <td>-1</td>\n",
       "      <td>Boulder</td>\n",
       "      <td>V2</td>\n",
       "      <td>1</td>\n",
       "      <td>10</td>\n",
       "      <td>39.37632</td>\n",
       "      <td>-74.41817</td>\n",
       "    </tr>\n",
       "  </tbody>\n",
       "</table>\n",
       "</div>"
      ],
      "text/plain": [
       "   index                 Route  \\\n",
       "0      0  Tanaka's Master Plan   \n",
       "1      1      Army of the Dead   \n",
       "\n",
       "                                            Location  \\\n",
       "0  Tanaka's Bly Tower > Atlantic City > e. South ...   \n",
       "1  Tanaka's Bly Tower > Atlantic City > e. South ...   \n",
       "\n",
       "                                                 URL  Avg Stars  Your Stars  \\\n",
       "0  https://www.mountainproject.com/route/11786435...        3.0          -1   \n",
       "1  https://www.mountainproject.com/route/11786437...        2.0          -1   \n",
       "\n",
       "  Route Type Rating  Pitches  Length  Area Latitude  Area Longitude  \n",
       "0    Boulder    V0+        1      10       39.37632       -74.41817  \n",
       "1    Boulder     V2        1      10       39.37632       -74.41817  "
      ]
     },
     "execution_count": 27,
     "metadata": {},
     "output_type": "execute_result"
    }
   ],
   "source": [
    "NJ_South_boulder = NJ_South_boulder.reset_index()\n",
    "NJ_South_boulder"
   ]
  },
  {
   "cell_type": "code",
   "execution_count": 28,
   "id": "d72e335c",
   "metadata": {},
   "outputs": [
    {
     "data": {
      "text/html": [
       "<div>\n",
       "<style scoped>\n",
       "    .dataframe tbody tr th:only-of-type {\n",
       "        vertical-align: middle;\n",
       "    }\n",
       "\n",
       "    .dataframe tbody tr th {\n",
       "        vertical-align: top;\n",
       "    }\n",
       "\n",
       "    .dataframe thead th {\n",
       "        text-align: right;\n",
       "    }\n",
       "</style>\n",
       "<table border=\"1\" class=\"dataframe\">\n",
       "  <thead>\n",
       "    <tr style=\"text-align: right;\">\n",
       "      <th></th>\n",
       "      <th>index</th>\n",
       "      <th>Route</th>\n",
       "      <th>Location</th>\n",
       "      <th>URL</th>\n",
       "      <th>Avg Stars</th>\n",
       "      <th>Your Stars</th>\n",
       "      <th>Route Type</th>\n",
       "      <th>Rating</th>\n",
       "      <th>Pitches</th>\n",
       "      <th>Length</th>\n",
       "      <th>Area Latitude</th>\n",
       "      <th>Area Longitude</th>\n",
       "      <th>Route name</th>\n",
       "      <th>Description</th>\n",
       "    </tr>\n",
       "  </thead>\n",
       "  <tbody>\n",
       "    <tr>\n",
       "      <th>0</th>\n",
       "      <td>0</td>\n",
       "      <td>Tanaka's Master Plan</td>\n",
       "      <td>Tanaka's Bly Tower &gt; Atlantic City &gt; e. South ...</td>\n",
       "      <td>https://www.mountainproject.com/route/11786435...</td>\n",
       "      <td>3.0</td>\n",
       "      <td>-1</td>\n",
       "      <td>Boulder</td>\n",
       "      <td>V0+</td>\n",
       "      <td>1</td>\n",
       "      <td>10</td>\n",
       "      <td>39.37632</td>\n",
       "      <td>-74.41817</td>\n",
       "      <td>Tanakas Master Plan</td>\n",
       "      <td>Sit start on the east face of the pillar with ...</td>\n",
       "    </tr>\n",
       "    <tr>\n",
       "      <th>1</th>\n",
       "      <td>1</td>\n",
       "      <td>Army of the Dead</td>\n",
       "      <td>Tanaka's Bly Tower &gt; Atlantic City &gt; e. South ...</td>\n",
       "      <td>https://www.mountainproject.com/route/11786437...</td>\n",
       "      <td>2.0</td>\n",
       "      <td>-1</td>\n",
       "      <td>Boulder</td>\n",
       "      <td>V2</td>\n",
       "      <td>1</td>\n",
       "      <td>10</td>\n",
       "      <td>39.37632</td>\n",
       "      <td>-74.41817</td>\n",
       "      <td>Army Of The Dead</td>\n",
       "      <td>Sit start at the NE arete, with rubber crimp f...</td>\n",
       "    </tr>\n",
       "  </tbody>\n",
       "</table>\n",
       "</div>"
      ],
      "text/plain": [
       "   index                 Route  \\\n",
       "0      0  Tanaka's Master Plan   \n",
       "1      1      Army of the Dead   \n",
       "\n",
       "                                            Location  \\\n",
       "0  Tanaka's Bly Tower > Atlantic City > e. South ...   \n",
       "1  Tanaka's Bly Tower > Atlantic City > e. South ...   \n",
       "\n",
       "                                                 URL  Avg Stars  Your Stars  \\\n",
       "0  https://www.mountainproject.com/route/11786435...        3.0          -1   \n",
       "1  https://www.mountainproject.com/route/11786437...        2.0          -1   \n",
       "\n",
       "  Route Type Rating  Pitches  Length  Area Latitude  Area Longitude  \\\n",
       "0    Boulder    V0+        1      10       39.37632       -74.41817   \n",
       "1    Boulder     V2        1      10       39.37632       -74.41817   \n",
       "\n",
       "            Route name                                        Description  \n",
       "0  Tanakas Master Plan  Sit start on the east face of the pillar with ...  \n",
       "1     Army Of The Dead  Sit start at the NE arete, with rubber crimp f...  "
      ]
     },
     "execution_count": 28,
     "metadata": {},
     "output_type": "execute_result"
    }
   ],
   "source": [
    "combined_NJ_south = pd.merge(NJ_South_boulder,end_of_url_df,on='index',how='right')\n",
    "combined_NJ_south"
   ]
  },
  {
   "cell_type": "code",
   "execution_count": 29,
   "id": "94034e7c",
   "metadata": {},
   "outputs": [],
   "source": [
    "combined_NJ_south.to_csv('combined_NJ_south.csv')"
   ]
  },
  {
   "cell_type": "code",
   "execution_count": null,
   "id": "8cf538fa",
   "metadata": {},
   "outputs": [],
   "source": []
  }
 ],
 "metadata": {
  "kernelspec": {
   "display_name": "Python 3 (ipykernel)",
   "language": "python",
   "name": "python3"
  },
  "language_info": {
   "codemirror_mode": {
    "name": "ipython",
    "version": 3
   },
   "file_extension": ".py",
   "mimetype": "text/x-python",
   "name": "python",
   "nbconvert_exporter": "python",
   "pygments_lexer": "ipython3",
   "version": "3.9.12"
  }
 },
 "nbformat": 4,
 "nbformat_minor": 5
}
