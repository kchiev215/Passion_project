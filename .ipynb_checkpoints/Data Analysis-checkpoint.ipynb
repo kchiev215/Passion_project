{
 "cells": [
  {
   "cell_type": "code",
   "execution_count": 1,
   "id": "aef3fa15",
   "metadata": {},
   "outputs": [],
   "source": [
    "import pandas as pd\n",
    "import sqlite3\n",
    "import numpy as np\n",
    "import matplotlib.pyplot as plt\n",
    "%matplotlib inline"
   ]
  },
  {
   "cell_type": "code",
   "execution_count": 2,
   "id": "11338355",
   "metadata": {},
   "outputs": [
    {
     "name": "stdout",
     "output_type": "stream",
     "text": [
      "Boulder_chart.csv\n",
      "Data Analysis.ipynb\n",
      "Description_tables\n",
      "Location_DB.ipynb\n",
      "MP_CSV\n",
      "README.md\n",
      "Web_scraping_tools\n",
      "combined_route_chart.csv\n"
     ]
    }
   ],
   "source": [
    "%%bash\n",
    "ls"
   ]
  },
  {
   "cell_type": "code",
   "execution_count": 3,
   "id": "d93d80e3",
   "metadata": {},
   "outputs": [],
   "source": [
    "# Read sqlite query results into a pandas DataFrame\n",
    "def qry(q, connection = sqlite3.connect(\"../PassionProject/database.sqlite\")):\n",
    "    df = pd.read_sql_query(q, connection)\n",
    "    connection.close\n",
    "    return df"
   ]
  },
  {
   "cell_type": "markdown",
   "id": "6af68b61",
   "metadata": {},
   "source": [
    "### Accessing sqlite database"
   ]
  },
  {
   "cell_type": "code",
   "execution_count": 4,
   "id": "242d789d",
   "metadata": {},
   "outputs": [
    {
     "name": "stdout",
     "output_type": "stream",
     "text": [
      "0      user\n",
      "1    method\n",
      "2     grade\n",
      "3    ascent\n",
      "Name: name, dtype: object\n"
     ]
    },
    {
     "name": "stderr",
     "output_type": "stream",
     "text": [
      "/var/folders/b8/qw7xf4r16w383xrhw3980l4w0000gp/T/ipykernel_16102/2482935748.py:10: FutureWarning: The frame.append method is deprecated and will be removed from pandas in a future version. Use pandas.concat instead.\n",
      "  columns_in_table = columns_in_table.append(df_i)\n",
      "/var/folders/b8/qw7xf4r16w383xrhw3980l4w0000gp/T/ipykernel_16102/2482935748.py:10: FutureWarning: The frame.append method is deprecated and will be removed from pandas in a future version. Use pandas.concat instead.\n",
      "  columns_in_table = columns_in_table.append(df_i)\n",
      "/var/folders/b8/qw7xf4r16w383xrhw3980l4w0000gp/T/ipykernel_16102/2482935748.py:10: FutureWarning: The frame.append method is deprecated and will be removed from pandas in a future version. Use pandas.concat instead.\n",
      "  columns_in_table = columns_in_table.append(df_i)\n",
      "/var/folders/b8/qw7xf4r16w383xrhw3980l4w0000gp/T/ipykernel_16102/2482935748.py:10: FutureWarning: The frame.append method is deprecated and will be removed from pandas in a future version. Use pandas.concat instead.\n",
      "  columns_in_table = columns_in_table.append(df_i)\n"
     ]
    }
   ],
   "source": [
    "tables = qry(\"\"\"\n",
    "    SELECT name FROM sqlite_master\n",
    "\"\"\")\n",
    "\n",
    "# Get Col + info\n",
    "columns_in_table = pd.DataFrame()\n",
    "for i in tables.name:\n",
    "    df_i = qry(\"PRAGMA TABLE_INFO(\" + i + \");\")\n",
    "    df_i['table_name'] = i\n",
    "    columns_in_table = columns_in_table.append(df_i)\n",
    "tables = tables.name\n",
    "print(tables)"
   ]
  },
  {
   "cell_type": "code",
   "execution_count": null,
   "id": "44c9ccc4",
   "metadata": {},
   "outputs": [],
   "source": [
    "# work w dataframes\n",
    "df_user = qry(\"SELECT * FROM USER\")\n",
    "df_grade = qry(\"SELECT * FROM grade\")\n",
    "df_method = qry(\"SELECT * FROM method\")\n",
    "df_ascent = qry(\"SELECT * FROM ascent\")"
   ]
  },
  {
   "cell_type": "markdown",
   "id": "74ac9614",
   "metadata": {},
   "source": [
    "### Cleaning up df_user tables to prepare for merging"
   ]
  },
  {
   "cell_type": "code",
   "execution_count": null,
   "id": "f29d99ee",
   "metadata": {
    "scrolled": true
   },
   "outputs": [],
   "source": [
    "df_user.head()"
   ]
  },
  {
   "cell_type": "code",
   "execution_count": null,
   "id": "cdb2ea30",
   "metadata": {},
   "outputs": [],
   "source": [
    "df_user.shape"
   ]
  },
  {
   "cell_type": "code",
   "execution_count": null,
   "id": "b368f3c8",
   "metadata": {},
   "outputs": [],
   "source": [
    "df_user.columns"
   ]
  },
  {
   "cell_type": "code",
   "execution_count": null,
   "id": "448e7e49",
   "metadata": {
    "scrolled": true
   },
   "outputs": [],
   "source": [
    "#Clean up user data by dropping columns I am not intersted in\n",
    "dropped_user_columns =['first_name', 'last_name', 'competitions', 'occupation', 'sponsor1',\n",
    "       'sponsor2', 'sponsor3', 'best_area', 'worst_area', 'guide_area',\n",
    "       'interests','presentation', 'deactivated', 'anonymous']\n",
    "df_user.rename(columns={'id': 'user_id'}, inplace=True)\n",
    "cleaned_up_users = df_user.drop(dropped_user_columns, axis=1)\n",
    "\n",
    "#Changing numeric 'sex' value to alphabets (M and F)\n",
    "cleaned_up_users['sex'] = cleaned_up_users['sex'].map({0:'M', 1:'F'})\n",
    "cleaned_up_users.head()"
   ]
  },
  {
   "cell_type": "markdown",
   "id": "1c4a893a",
   "metadata": {},
   "source": [
    "### Cleaning up df_grade tables to prepare for merging"
   ]
  },
  {
   "cell_type": "code",
   "execution_count": null,
   "id": "fbcf9394",
   "metadata": {
    "scrolled": true
   },
   "outputs": [],
   "source": [
    "df_grade.head()"
   ]
  },
  {
   "cell_type": "code",
   "execution_count": null,
   "id": "0b42705b",
   "metadata": {},
   "outputs": [],
   "source": [
    "df_grade.shape"
   ]
  },
  {
   "cell_type": "code",
   "execution_count": null,
   "id": "ec1de52c",
   "metadata": {},
   "outputs": [],
   "source": [
    "df_grade.columns"
   ]
  },
  {
   "cell_type": "code",
   "execution_count": null,
   "id": "89bea3d8",
   "metadata": {
    "scrolled": true
   },
   "outputs": [],
   "source": [
    "#Clean up grades\n",
    "df_grade.rename(columns={'id':'grade_id'}, inplace=True)\n",
    "drop_fra_columns = ['score', 'fra_routes', 'fra_routes_input', 'fra_routes_selector',\n",
    "       'fra_boulders', 'fra_boulders_input', 'fra_boulders_selector',\n",
    "       'usa_routes', 'usa_routes_input', 'usa_routes_selector','usa_boulders_selector', 'usa_boulders_input']\n",
    "usa_boulders = df_grade.drop(drop_fra_columns, axis=1)\n",
    "usa_boulders.head()"
   ]
  },
  {
   "cell_type": "code",
   "execution_count": null,
   "id": "5b361aa8",
   "metadata": {
    "scrolled": false
   },
   "outputs": [],
   "source": [
    "usa_boulders.usa_boulders.values"
   ]
  },
  {
   "cell_type": "code",
   "execution_count": null,
   "id": "5863ef29",
   "metadata": {},
   "outputs": [],
   "source": [
    "#Obtaining the grades of the climbs performed\n",
    "usa_boulder_grades = usa_boulders['usa_boulders']\n",
    "usa_boulder_grades.drop_duplicates(inplace=True)\n",
    "usa_boulder_grades = usa_boulder_grades.values\n",
    "usa_boulder_grades"
   ]
  },
  {
   "cell_type": "markdown",
   "id": "ebc25b71",
   "metadata": {},
   "source": [
    "### Clean up df_ascent table"
   ]
  },
  {
   "cell_type": "code",
   "execution_count": null,
   "id": "0df58168",
   "metadata": {
    "scrolled": true
   },
   "outputs": [],
   "source": [
    "df_ascent.head()"
   ]
  },
  {
   "cell_type": "code",
   "execution_count": null,
   "id": "ecfda047",
   "metadata": {},
   "outputs": [],
   "source": [
    "df_ascent[df_ascent['climb_type']==1]"
   ]
  },
  {
   "cell_type": "code",
   "execution_count": null,
   "id": "4e079df3",
   "metadata": {},
   "outputs": [],
   "source": [
    "df_ascent.shape"
   ]
  },
  {
   "cell_type": "code",
   "execution_count": null,
   "id": "3c007af0",
   "metadata": {},
   "outputs": [],
   "source": [
    "df_ascent.columns"
   ]
  },
  {
   "cell_type": "code",
   "execution_count": null,
   "id": "43269409",
   "metadata": {
    "scrolled": true
   },
   "outputs": [],
   "source": [
    "dropped_columns_ascent = ['id', 'notes', 'raw_notes', 'total_score', 'comment', 'description', 'yellow_id', 'climb_try', 'repeat', 'exclude_from_ranking','user_recommended','chipped','rating','project_ascent_date','last_year','climb_type','rec_date','date']\n",
    "cleaned_up_ascent = df_ascent.drop(dropped_columns_ascent, axis=1)\n",
    "cleaned_up_ascent.head()"
   ]
  },
  {
   "cell_type": "markdown",
   "id": "7b0e63bf",
   "metadata": {},
   "source": [
    "### Combining all the charts"
   ]
  },
  {
   "cell_type": "code",
   "execution_count": null,
   "id": "e1d6338c",
   "metadata": {
    "scrolled": true
   },
   "outputs": [],
   "source": [
    "combined_data = cleaned_up_users.merge(cleaned_up_ascent,on='user_id').merge(usa_boulders, on='grade_id')\n",
    "combined_data.head()"
   ]
  },
  {
   "cell_type": "code",
   "execution_count": null,
   "id": "1bbdb50b",
   "metadata": {},
   "outputs": [],
   "source": [
    "combined_data.shape"
   ]
  },
  {
   "cell_type": "markdown",
   "id": "bc773382",
   "metadata": {},
   "source": [
    "### Dropping duplicates in the \"final\" table"
   ]
  },
  {
   "cell_type": "code",
   "execution_count": null,
   "id": "c343805e",
   "metadata": {
    "scrolled": true
   },
   "outputs": [],
   "source": [
    "com_dups = combined_data.drop_duplicates(subset=None, keep='first', inplace=False)\n",
    "com_dups.head()"
   ]
  },
  {
   "cell_type": "markdown",
   "id": "703c7379",
   "metadata": {},
   "source": [
    "Renaming columns in the combined chart"
   ]
  },
  {
   "cell_type": "code",
   "execution_count": null,
   "id": "21cae714",
   "metadata": {},
   "outputs": [],
   "source": [
    "com_dups.rename(columns={'country_x':'user_country'}, inplace=True)\n",
    "com_dups.rename(columns={'country_y':'boulder_country'}, inplace=True)\n",
    "com_dups.rename(columns={'usa_boulders':'usa_boulder_scale'}, inplace=True)\n",
    "com_dups.head()"
   ]
  },
  {
   "cell_type": "markdown",
   "id": "b6450a44",
   "metadata": {},
   "source": [
    "# FINAL TABLE TO BE USED FOR ANALYSIS"
   ]
  },
  {
   "cell_type": "code",
   "execution_count": null,
   "id": "47b734ce",
   "metadata": {
    "scrolled": true
   },
   "outputs": [],
   "source": [
    "#Noticed some empty strings in the USA boulder_scale and went in to clean them up\n",
    "drop_value_com_dups = com_dups[com_dups.usa_boulder_scale.values != '']\n",
    "drop_value_com_dups.head()"
   ]
  },
  {
   "cell_type": "code",
   "execution_count": null,
   "id": "140e1c5c",
   "metadata": {},
   "outputs": [],
   "source": [
    "drop_value_com_dups.shape"
   ]
  },
  {
   "cell_type": "markdown",
   "id": "bb746732",
   "metadata": {},
   "source": [
    "### Analysis of gender vs difficulty completed"
   ]
  },
  {
   "cell_type": "code",
   "execution_count": null,
   "id": "64d98029",
   "metadata": {
    "scrolled": true
   },
   "outputs": [],
   "source": [
    "gender_v_grade = drop_value_com_dups[['sex','usa_boulder_scale']]\n",
    "gender_v_grade.head()"
   ]
  },
  {
   "cell_type": "code",
   "execution_count": null,
   "id": "44a176ab",
   "metadata": {
    "scrolled": true
   },
   "outputs": [],
   "source": [
    "#Getting the male climbers \n",
    "male_grade = gender_v_grade[gender_v_grade['sex']=='M']\n",
    "male_grade_chart = pd.DataFrame(male_grade.value_counts())\n",
    "male_grade_chart = male_grade_chart.droplevel(0, axis=0) \n",
    "male_grade_chart.rename(columns={0:'m_count'}, inplace=True)\n",
    "male_grade_chart.head()"
   ]
  },
  {
   "cell_type": "code",
   "execution_count": null,
   "id": "bdf24ed5",
   "metadata": {
    "scrolled": true
   },
   "outputs": [],
   "source": [
    "#Getting the female climbers\n",
    "female_grade = gender_v_grade[gender_v_grade['sex']=='F']\n",
    "female_grade_chart = pd.DataFrame(female_grade.value_counts())\n",
    "female_grade_chart=female_grade_chart.droplevel(0, axis=0) \n",
    "female_grade_chart.rename(columns={0:'f_count'}, inplace=True)\n",
    "female_grade_chart.head()"
   ]
  },
  {
   "cell_type": "code",
   "execution_count": null,
   "id": "17c75da0",
   "metadata": {
    "scrolled": true
   },
   "outputs": [],
   "source": [
    "#Combined the number of climbs performed at each grade for each gender\n",
    "frames = [male_grade_chart,female_grade_chart]\n",
    "grade_chart_result = pd.concat(frames, axis=1)\n",
    "grade_chart_result = grade_chart_result.fillna(0)\n",
    "grade_chart_result"
   ]
  },
  {
   "cell_type": "code",
   "execution_count": null,
   "id": "5042bb39",
   "metadata": {
    "scrolled": true
   },
   "outputs": [],
   "source": [
    "#Attempting to order the climbing grades in the correct order\n",
    "grade_chart_result = grade_chart_result.reset_index()\n",
    "grade_chart_result"
   ]
  },
  {
   "cell_type": "code",
   "execution_count": null,
   "id": "1cd60479",
   "metadata": {
    "scrolled": true
   },
   "outputs": [],
   "source": [
    "#Manually going in to correct climbing grade order \n",
    "grade_chart_result['usa_boulder_scale'] = pd.Categorical(grade_chart_result['usa_boulder_scale'], ['VB', 'V0-', 'V0', 'V1', 'V2', 'V3', 'V3/4', 'V4', 'V4/V5',\n",
    "       'V5', 'V5/V6', 'V6', 'V7', 'V8', 'V8/9', 'V9', 'V10', 'V11', 'V12',\n",
    "       'V13', 'V14', 'V15', 'V15/16', 'V16', 'V16/17', 'V17', 'V17/18',\n",
    "       'V18', 'V18/19', 'V19', 'V19/20', 'V20'])\n",
    "\n",
    "grade_chart_result = grade_chart_result.sort_values(['usa_boulder_scale'])\n",
    "grade_chart_result"
   ]
  },
  {
   "cell_type": "code",
   "execution_count": null,
   "id": "27e52bd4",
   "metadata": {
    "scrolled": true
   },
   "outputs": [],
   "source": [
    "#Adding percentage to the chart\n",
    "grade_chart_result['m_percent'] = (grade_chart_result['m_count'] / \n",
    "                  grade_chart_result['m_count'].sum()) * 100\n",
    "\n",
    "grade_chart_result['f_percent'] = (grade_chart_result['f_count'] / \n",
    "                  grade_chart_result['f_count'].sum()) * 100\n",
    "\n",
    "grade_chart_result"
   ]
  },
  {
   "cell_type": "code",
   "execution_count": null,
   "id": "fc3bd822",
   "metadata": {},
   "outputs": [],
   "source": [
    "#Chart demonstrating the count each gender for each difficulty\n",
    "\n",
    "# grade_chart_result[['usa_boulder_scale', 'm_count', 'f_count']].set_index('usa_boulder_scale').plot(kind = 'bar', fontsize=10, figsize=[16, 10], edgecolor='white', align='center', width = 1,)\n",
    "# plt.xlabel(\"Boulder Difficulty\")\n",
    "# plt.ylabel(\"Number of Climbers\")\n",
    "# plt.title = ('Climbs Completed')\n",
    "# plt.show()\n",
    "\n",
    "#Chart not descriptive enough - Not useful/Will comment out"
   ]
  },
  {
   "cell_type": "code",
   "execution_count": null,
   "id": "54da4d9d",
   "metadata": {},
   "outputs": [],
   "source": [
    "#Percentage chart creation\n",
    "grade_chart_result[['usa_boulder_scale', 'm_percent', 'f_percent']].set_index('usa_boulder_scale').plot(kind = 'bar', fontsize=10, figsize=[16, 10], edgecolor='white', align='center', width = 1,)\n",
    "plt.xlabel(\"Boulder Difficulty\")\n",
    "plt.ylabel(\"Number of Climbers\")\n",
    "plt.title = ('Percentage Climbs Completed')\n",
    "plt.show()\n"
   ]
  },
  {
   "cell_type": "markdown",
   "id": "140fd8dc",
   "metadata": {},
   "source": [
    "### Gender composition pie chart creation"
   ]
  },
  {
   "cell_type": "code",
   "execution_count": null,
   "id": "4184f00b",
   "metadata": {},
   "outputs": [],
   "source": [
    "#Cleaning out for duplications of climber per user_id\n",
    "user_dups = drop_value_com_dups.drop_duplicates(subset=\"user_id\", keep='first', inplace=False)\n",
    "user_dups.head()"
   ]
  },
  {
   "cell_type": "code",
   "execution_count": null,
   "id": "c4c30770",
   "metadata": {},
   "outputs": [],
   "source": [
    "user_dups[user_dups['sex']=='M'].shape"
   ]
  },
  {
   "cell_type": "code",
   "execution_count": null,
   "id": "7d6d73b8",
   "metadata": {},
   "outputs": [],
   "source": [
    "user_dups[user_dups['sex']=='F'].shape"
   ]
  },
  {
   "cell_type": "code",
   "execution_count": null,
   "id": "cfdd3bce",
   "metadata": {},
   "outputs": [],
   "source": [
    "data = [30681, 5347]\n",
    "pie_labels = ['Male','Female']\n",
    "plt.pie(data, labels=pie_labels,labeldistance=1.1, radius=1.5, autopct = \"%0.2f%%\", startangle = 360)\n",
    "plt.title = 'Gender Boulder Composition'\n",
    "plt.show()\n"
   ]
  },
  {
   "cell_type": "markdown",
   "id": "fde57beb",
   "metadata": {},
   "source": [
    "### Height vs difficulty of climb completed"
   ]
  },
  {
   "cell_type": "code",
   "execution_count": null,
   "id": "67439504",
   "metadata": {},
   "outputs": [],
   "source": [
    "height_v_difficulty = drop_value_com_dups[['height','usa_boulder_scale', 'sex']] \n",
    "height_v_difficulty = height_v_difficulty[(height_v_difficulty['height']>62)]\n",
    "height_v_difficulty"
   ]
  },
  {
   "cell_type": "code",
   "execution_count": null,
   "id": "56f29feb",
   "metadata": {},
   "outputs": [],
   "source": [
    "#Reorganizing the difficulty level\n",
    "\n",
    "height_v_difficulty['usa_boulder_scale'] = pd.Categorical(height_v_difficulty['usa_boulder_scale'], ['VB', 'V0-', 'V0', 'V1', 'V2', 'V3', 'V3/4', 'V4', 'V4/V5',\n",
    "       'V5', 'V5/V6', 'V6', 'V7', 'V8', 'V8/9', 'V9', 'V10', 'V11', 'V12',\n",
    "       'V13', 'V14', 'V15', 'V15/16', 'V16', 'V16/17', 'V17', 'V17/18',\n",
    "       'V18', 'V18/19', 'V19', 'V19/20', 'V20'])\n",
    "\n",
    "height_v_difficulty = height_v_difficulty.sort_values(['usa_boulder_scale'])\n",
    "height_v_difficulty"
   ]
  },
  {
   "cell_type": "code",
   "execution_count": null,
   "id": "ab528475",
   "metadata": {},
   "outputs": [],
   "source": [
    "#Getting FEMALES only\n",
    "Fheight_v_difficulty = height_v_difficulty[height_v_difficulty['sex']=='F']\n",
    "user_dups[user_dups['sex']=='M'].count()"
   ]
  },
  {
   "cell_type": "code",
   "execution_count": null,
   "id": "75416905",
   "metadata": {},
   "outputs": [],
   "source": [
    "Fheight_v_difficulty.describe()"
   ]
  },
  {
   "cell_type": "code",
   "execution_count": null,
   "id": "b9123cdc",
   "metadata": {},
   "outputs": [],
   "source": [
    "Fheight_v_difficulty.plot(\n",
    "    x='usa_boulder_scale', \n",
    "    y='height', \n",
    "    kind='scatter',\n",
    "    title='Female Height vs Difficulty',\n",
    "    xlabel='USA Boulder Scale Difficulty',\n",
    "    ylabel='Height in cm',\n",
    "    fontsize=10,\n",
    "    figsize=[16, 10]\n",
    "\n",
    ")\n",
    "\n",
    "plt.show()"
   ]
  },
  {
   "cell_type": "code",
   "execution_count": null,
   "id": "576685eb",
   "metadata": {},
   "outputs": [],
   "source": [
    "Fheight_v_difficulty.groupby(['usa_boulder_scale']).mean().reset_index().plot(\n",
    "    x='usa_boulder_scale', \n",
    "    y='height', \n",
    "    kind='scatter',\n",
    "    title='F Height vs Difficulty',\n",
    "    xlabel='USA Boulder Scale Difficulty',\n",
    "    ylabel='height in cm',\n",
    "    fontsize=10,\n",
    "    figsize=[18, 10]\n",
    "\n",
    ")"
   ]
  },
  {
   "cell_type": "code",
   "execution_count": null,
   "id": "186b6808",
   "metadata": {},
   "outputs": [],
   "source": [
    "#Getting MALES only\n",
    "Mheight_v_difficulty = height_v_difficulty[height_v_difficulty['sex']=='M']\n",
    "Mheight_v_difficulty"
   ]
  },
  {
   "cell_type": "code",
   "execution_count": null,
   "id": "2fc46cdd",
   "metadata": {},
   "outputs": [],
   "source": [
    "Mheight_v_difficulty.plot(\n",
    "    x='usa_boulder_scale', \n",
    "    y='height', \n",
    "    kind='scatter',\n",
    "    title='Male Height vs Difficulty',\n",
    "    xlabel='USA Boulder Scale Difficulty',\n",
    "    ylabel='Height in cm',\n",
    "    fontsize=10,\n",
    "    figsize=[16, 10]\n",
    "\n",
    ")\n",
    "\n",
    "plt.show()"
   ]
  },
  {
   "cell_type": "code",
   "execution_count": null,
   "id": "b92892e1",
   "metadata": {},
   "outputs": [],
   "source": [
    "Mheight_v_difficulty.groupby(['usa_boulder_scale']).mean().reset_index().plot(\n",
    "    x='usa_boulder_scale', \n",
    "    y='height', \n",
    "    kind='scatter',\n",
    "    title='M Height vs Difficulty',\n",
    "    xlabel='USA Boulder Scale Difficulty',\n",
    "    ylabel='Height in cm',\n",
    "    fontsize=10,\n",
    "    figsize=[18, 10]\n",
    "\n",
    ")"
   ]
  },
  {
   "cell_type": "code",
   "execution_count": null,
   "id": "9ecbe8fc",
   "metadata": {},
   "outputs": [],
   "source": [
    "height_v_difficulty.plot(\n",
    "    x='usa_boulder_scale', \n",
    "    y='height', \n",
    "    kind='scatter',\n",
    "    title='Height vs Difficulty',\n",
    "    xlabel='USA Boulder Scale Difficulty',\n",
    "    ylabel='Height in cm',\n",
    "    fontsize=10,\n",
    "    figsize=[16, 10]\n",
    "\n",
    ")\n",
    "\n",
    "plt.show()"
   ]
  },
  {
   "cell_type": "markdown",
   "id": "d75c7533",
   "metadata": {},
   "source": [
    "### Weight vs difficulty of climb completed"
   ]
  },
  {
   "cell_type": "code",
   "execution_count": null,
   "id": "2898b093",
   "metadata": {},
   "outputs": [],
   "source": [
    "weight_v_difficulty = drop_value_com_dups[['weight','usa_boulder_scale','sex']]\n",
    "weight_v_difficulty = weight_v_difficulty[(weight_v_difficulty['weight'])!=0]\n",
    "weight_v_difficulty"
   ]
  },
  {
   "cell_type": "code",
   "execution_count": null,
   "id": "7718dd29",
   "metadata": {},
   "outputs": [],
   "source": [
    "#Re-arrange boulder scale\n",
    "weight_v_difficulty['usa_boulder_scale'] = pd.Categorical(weight_v_difficulty['usa_boulder_scale'], ['VB', 'V0-', 'V0', 'V1', 'V2', 'V3', 'V3/4', 'V4', 'V4/V5',\n",
    "       'V5', 'V5/V6', 'V6', 'V7', 'V8', 'V8/9', 'V9', 'V10', 'V11', 'V12',\n",
    "       'V13', 'V14', 'V15', 'V15/16', 'V16', 'V16/17', 'V17', 'V17/18',\n",
    "       'V18', 'V18/19', 'V19', 'V19/20', 'V20'])\n",
    "\n",
    "weight_v_difficulty = weight_v_difficulty.sort_values(['usa_boulder_scale'])\n",
    "weight_v_difficulty"
   ]
  },
  {
   "cell_type": "code",
   "execution_count": null,
   "id": "304e36ad",
   "metadata": {},
   "outputs": [],
   "source": [
    "weight_v_difficulty.groupby(['usa_boulder_scale']).mean().reset_index().plot(\n",
    "    x='usa_boulder_scale', \n",
    "    y='weight', \n",
    "    kind='scatter',\n",
    "    title='Weight(combined gender) vs Difficulty',\n",
    "    xlabel='USA Boulder Scale Difficulty',\n",
    "    ylabel='Weight in kg',\n",
    "    fontsize=10,\n",
    "    figsize=[18, 10]\n",
    "\n",
    ")"
   ]
  },
  {
   "cell_type": "code",
   "execution_count": null,
   "id": "f96c93e7",
   "metadata": {},
   "outputs": [],
   "source": [
    "Fweight_v_difficulty = weight_v_difficulty[weight_v_difficulty['sex']=='F']\n",
    "Fweight_v_difficulty"
   ]
  },
  {
   "cell_type": "code",
   "execution_count": null,
   "id": "0a5909c4",
   "metadata": {},
   "outputs": [],
   "source": [
    "Fweight_v_difficulty.groupby(['usa_boulder_scale']).mean().reset_index().plot(\n",
    "    x='usa_boulder_scale', \n",
    "    y='weight', \n",
    "    kind='scatter',\n",
    "    title='Weight(F) vs Difficulty',\n",
    "    xlabel='USA Boulder Scale Difficulty',\n",
    "    ylabel='Weight in kg',\n",
    "    fontsize=10,\n",
    "    figsize=[18, 10]\n",
    "\n",
    ")"
   ]
  },
  {
   "cell_type": "code",
   "execution_count": null,
   "id": "e9c5f761",
   "metadata": {},
   "outputs": [],
   "source": [
    "Mweight_v_difficulty = weight_v_difficulty[weight_v_difficulty['sex']=='M']\n",
    "Mweight_v_difficulty"
   ]
  },
  {
   "cell_type": "code",
   "execution_count": null,
   "id": "3bf7afdc",
   "metadata": {},
   "outputs": [],
   "source": [
    "Mweight_v_difficulty.groupby(['usa_boulder_scale']).mean().reset_index().plot(\n",
    "    x='usa_boulder_scale', \n",
    "    y='weight', \n",
    "    kind='scatter',\n",
    "    title='Weight(M) vs Difficulty',\n",
    "    xlabel='USA Boulder Scale Difficulty',\n",
    "    ylabel='Weight in kg',\n",
    "    fontsize=10,\n",
    "    figsize=[18, 10]\n",
    "\n",
    ")"
   ]
  },
  {
   "cell_type": "markdown",
   "id": "8ae704b5",
   "metadata": {},
   "source": [
    "### Length of time climbing vs difficulty completed"
   ]
  },
  {
   "cell_type": "code",
   "execution_count": null,
   "id": "e62f3bb1",
   "metadata": {},
   "outputs": [],
   "source": [
    "#Creating the dataframe for length of time climbing vs difficulty\n",
    "length_of_time_v_difficulty = drop_value_com_dups[['started', 'year', 'usa_boulder_scale', 'sex']]\n",
    "length_of_time_v_difficulty = length_of_time_v_difficulty[length_of_time_v_difficulty['started']>0]\n",
    "length_of_time_v_difficulty"
   ]
  },
  {
   "cell_type": "code",
   "execution_count": null,
   "id": "e4986f99",
   "metadata": {},
   "outputs": [],
   "source": [
    "length_of_time_v_difficulty.dtypes"
   ]
  },
  {
   "cell_type": "code",
   "execution_count": null,
   "id": "6efe22c2",
   "metadata": {},
   "outputs": [],
   "source": [
    "#Finding the length of time they were climbing by the time they climbed the crag\n",
    "length_of_time_v_difficulty['length of climbing'] = length_of_time_v_difficulty['year'].values - length_of_time_v_difficulty['started'].values\n",
    "length_of_time_v_difficulty = length_of_time_v_difficulty[length_of_time_v_difficulty['length of climbing']>0]\n",
    "length_of_time_v_difficulty"
   ]
  },
  {
   "cell_type": "code",
   "execution_count": null,
   "id": "804c4881",
   "metadata": {},
   "outputs": [],
   "source": [
    "length_of_time_v_difficulty.sort_values(by='length of climbing') #116 years??"
   ]
  },
  {
   "cell_type": "code",
   "execution_count": null,
   "id": "45e183c4",
   "metadata": {},
   "outputs": [],
   "source": [
    "#Re-arrange boulder scale\n",
    "length_of_time_v_difficulty['usa_boulder_scale'] = pd.Categorical(length_of_time_v_difficulty['usa_boulder_scale'], ['VB', 'V0-', 'V0', 'V1', 'V2', 'V3', 'V3/4', 'V4', 'V4/V5',\n",
    "       'V5', 'V5/V6', 'V6', 'V7', 'V8', 'V8/9', 'V9', 'V10', 'V11', 'V12',\n",
    "       'V13', 'V14', 'V15', 'V15/16', 'V16', 'V16/17', 'V17', 'V17/18',\n",
    "       'V18', 'V18/19', 'V19', 'V19/20', 'V20'])\n",
    "\n",
    "length_of_time_v_difficulty = length_of_time_v_difficulty.sort_values(['usa_boulder_scale'])\n",
    "length_of_time_v_difficulty"
   ]
  },
  {
   "cell_type": "code",
   "execution_count": null,
   "id": "8fc485ae",
   "metadata": {},
   "outputs": [],
   "source": [
    "length_of_time_v_difficulty['length of climbing'].describe().apply(\"{0:.5f}\".format)"
   ]
  },
  {
   "cell_type": "code",
   "execution_count": null,
   "id": "f6d986a9",
   "metadata": {},
   "outputs": [],
   "source": [
    "#getting the data above the mean \n",
    "above_line = length_of_time_v_difficulty['length of climbing'].std() + length_of_time_v_difficulty['length of climbing'].mean()\n",
    "above_line"
   ]
  },
  {
   "cell_type": "code",
   "execution_count": null,
   "id": "98ee2b53",
   "metadata": {},
   "outputs": [],
   "source": [
    "#getting the data below the mean \n",
    "below_line = length_of_time_v_difficulty['length of climbing'].mean() - length_of_time_v_difficulty['length of climbing'].std()\n",
    "below_line"
   ]
  },
  {
   "cell_type": "code",
   "execution_count": null,
   "id": "06bf2d40",
   "metadata": {},
   "outputs": [],
   "source": [
    "#data points within the standard deviation\n",
    "length_of_time_v_difficulty_test = length_of_time_v_difficulty[length_of_time_v_difficulty['length of climbing']>=1.78]\n",
    "length_of_time_v_difficulty_test = length_of_time_v_difficulty[length_of_time_v_difficulty['length of climbing']<=16.75]\n",
    "length_of_time_v_difficulty_test"
   ]
  },
  {
   "cell_type": "code",
   "execution_count": null,
   "id": "16fcbe9d",
   "metadata": {},
   "outputs": [],
   "source": [
    "length_of_time_v_difficulty_test.groupby('usa_boulder_scale').mean().reset_index().plot(\n",
    "    x='usa_boulder_scale', \n",
    "    y='length of climbing', \n",
    "    kind='scatter',\n",
    "    title='length of climbing vs Difficulty',\n",
    "    xlabel='USA Boulder Scale Difficulty',\n",
    "    ylabel='length of climbing in yr',\n",
    "    fontsize=10,\n",
    "    figsize=[18, 10]\n",
    "\n",
    ")"
   ]
  },
  {
   "cell_type": "code",
   "execution_count": null,
   "id": "fc23580d",
   "metadata": {},
   "outputs": [],
   "source": []
  }
 ],
 "metadata": {
  "kernelspec": {
   "display_name": "Python 3 (ipykernel)",
   "language": "python",
   "name": "python3"
  },
  "language_info": {
   "codemirror_mode": {
    "name": "ipython",
    "version": 3
   },
   "file_extension": ".py",
   "mimetype": "text/x-python",
   "name": "python",
   "nbconvert_exporter": "python",
   "pygments_lexer": "ipython3",
   "version": "3.9.12"
  }
 },
 "nbformat": 4,
 "nbformat_minor": 5
}
